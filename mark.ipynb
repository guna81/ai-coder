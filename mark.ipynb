{
 "cells": [
  {
   "cell_type": "code",
   "execution_count": 3,
   "metadata": {},
   "outputs": [
    {
     "ename": "ModuleNotFoundError",
     "evalue": "No module named 'markdown'",
     "output_type": "error",
     "traceback": [
      "\u001b[0;31m---------------------------------------------------------------------------\u001b[0m",
      "\u001b[0;31mModuleNotFoundError\u001b[0m                       Traceback (most recent call last)",
      "Cell \u001b[0;32mIn[3], line 1\u001b[0m\n\u001b[0;32m----> 1\u001b[0m \u001b[38;5;28;01mimport\u001b[39;00m \u001b[38;5;21;01mmarkdown\u001b[39;00m\n\u001b[1;32m      2\u001b[0m \u001b[38;5;28;01mimport\u001b[39;00m \u001b[38;5;21;01mre\u001b[39;00m\n\u001b[1;32m      4\u001b[0m \u001b[38;5;28;01mdef\u001b[39;00m \u001b[38;5;21mmarkdown_to_text\u001b[39m(text):\n",
      "\u001b[0;31mModuleNotFoundError\u001b[0m: No module named 'markdown'"
     ]
    }
   ],
   "source": [
    "import markdown\n",
    "import re\n",
    "\n",
    "def markdown_to_text(text):\n",
    "  \"\"\"\n",
    "  This function uses markdown library to convert markdown to HTML and then extracts text.\n",
    "\n",
    "  Args:\n",
    "      text: The markdown formatted text as a string.\n",
    "\n",
    "  Returns:\n",
    "      The plain text content of the markdown string.\n",
    "  \"\"\"\n",
    "  # Convert markdown to HTML for text extraction\n",
    "  html = markdown.markdown(text)\n",
    "\n",
    "  # Remove HTML tags to get plain text\n",
    "  plain_text = re.sub(r'<[^>]*>', '', html)\n",
    "  return plain_text\n",
    "\n",
    "# Example usage (same as previous example)\n"
   ]
  },
  {
   "cell_type": "code",
   "execution_count": 4,
   "metadata": {},
   "outputs": [
    {
     "ename": "NameError",
     "evalue": "name 'markdown_to_text' is not defined",
     "output_type": "error",
     "traceback": [
      "\u001b[0;31m---------------------------------------------------------------------------\u001b[0m",
      "\u001b[0;31mNameError\u001b[0m                                 Traceback (most recent call last)",
      "Cell \u001b[0;32mIn[4], line 20\u001b[0m\n\u001b[1;32m      1\u001b[0m \u001b[38;5;66;03m# Example usage\u001b[39;00m\n\u001b[1;32m      2\u001b[0m text \u001b[38;5;241m=\u001b[39m \u001b[38;5;124m\"\"\"\u001b[39m\n\u001b[1;32m      3\u001b[0m \u001b[38;5;124m# This is a title\u001b[39m\n\u001b[1;32m      4\u001b[0m \n\u001b[0;32m   (...)\u001b[0m\n\u001b[1;32m     17\u001b[0m \u001b[38;5;124mHere are some spaces   and  tabs.\u001b[39m\n\u001b[1;32m     18\u001b[0m \u001b[38;5;124m\"\"\"\u001b[39m\n\u001b[0;32m---> 20\u001b[0m plain_text \u001b[38;5;241m=\u001b[39m \u001b[43mmarkdown_to_text\u001b[49m(text)\n\u001b[1;32m     21\u001b[0m \u001b[38;5;28mprint\u001b[39m(plain_text)\n",
      "\u001b[0;31mNameError\u001b[0m: name 'markdown_to_text' is not defined"
     ]
    }
   ],
   "source": [
    "# Example usage\n",
    "text = \"\"\"\n",
    "# This is a title\n",
    "\n",
    "This is some text with *bold* and _italics_.\n",
    "\n",
    "Here is a list:\n",
    "* Item 1\n",
    "* Item 2\n",
    "\n",
    "> This is a quote.\n",
    "\n",
    "---\n",
    "\n",
    "[Link text](https://example.com)\n",
    "\n",
    "Here are some spaces   and  tabs.\n",
    "\"\"\"\n",
    "\n",
    "plain_text = markdown_to_text(text)\n",
    "print(plain_text)"
   ]
  },
  {
   "cell_type": "code",
   "execution_count": 5,
   "metadata": {},
   "outputs": [
    {
     "ename": "ModuleNotFoundError",
     "evalue": "No module named 'mistletoe'",
     "output_type": "error",
     "traceback": [
      "\u001b[0;31m---------------------------------------------------------------------------\u001b[0m",
      "\u001b[0;31mModuleNotFoundError\u001b[0m                       Traceback (most recent call last)",
      "Cell \u001b[0;32mIn[5], line 1\u001b[0m\n\u001b[0;32m----> 1\u001b[0m \u001b[38;5;28;01mfrom\u001b[39;00m \u001b[38;5;21;01mmistletoe\u001b[39;00m \u001b[38;5;28;01mimport\u001b[39;00m markdown\n\u001b[1;32m      3\u001b[0m \u001b[38;5;28;01mdef\u001b[39;00m \u001b[38;5;21mmarkdown_to_text\u001b[39m(text):\n\u001b[1;32m      4\u001b[0m \u001b[38;5;250m  \u001b[39m\u001b[38;5;124;03m\"\"\"\u001b[39;00m\n\u001b[1;32m      5\u001b[0m \u001b[38;5;124;03m  This function uses mistletoe library to convert markdown to text,\u001b[39;00m\n\u001b[1;32m      6\u001b[0m \u001b[38;5;124;03m  removing JSON content within code blocks.\u001b[39;00m\n\u001b[0;32m   (...)\u001b[0m\n\u001b[1;32m     12\u001b[0m \u001b[38;5;124;03m      The plain text content of the markdown string with JSON in code blocks removed.\u001b[39;00m\n\u001b[1;32m     13\u001b[0m \u001b[38;5;124;03m  \"\"\"\u001b[39;00m\n",
      "\u001b[0;31mModuleNotFoundError\u001b[0m: No module named 'mistletoe'"
     ]
    }
   ],
   "source": [
    "from mistletoe import markdown\n",
    "\n",
    "def markdown_to_text(text):\n",
    "  \"\"\"\n",
    "  This function uses mistletoe library to convert markdown to text,\n",
    "  removing JSON content within code blocks.\n",
    "\n",
    "  Args:\n",
    "      text: The markdown formatted text as a string.\n",
    "\n",
    "  Returns:\n",
    "      The plain text content of the markdown string with JSON in code blocks removed.\n",
    "  \"\"\"\n",
    "  # Parse the markdown\n",
    "  ast = markdown(text)\n",
    "\n",
    "  # Track code block state\n",
    "  in_code_block = False\n",
    "  plain_text = \"\"\n",
    "\n",
    "  for element in ast:\n",
    "    if isinstance(element, str):\n",
    "      # Text node\n",
    "      if not in_code_block:\n",
    "        plain_text += element\n",
    "      # Handle JSON removal within code block\n",
    "      elif not is_json(element):\n",
    "        plain_text += element\n",
    "    else:\n",
    "      # Code block handling\n",
    "      if element.tag == \"code\":\n",
    "        in_code_block = not in_code_block\n",
    "      else:\n",
    "        # Ignore other elements (formatting, headings, etc.)\n",
    "        pass\n",
    "  return plain_text\n",
    "\n",
    "def is_json(text):\n",
    "  \"\"\"\n",
    "  This function performs basic JSON structure check.\n",
    "\n",
    "  **Note:** This is a simplified check and might not handle all valid JSON formats.\n",
    "\n",
    "  Args:\n",
    "      text: The string to check for JSON structure.\n",
    "\n",
    "  Returns:\n",
    "      True if the text appears to be JSON, False otherwise.\n",
    "  \"\"\"\n",
    "  try:\n",
    "    # Try parsing the text as JSON (basic structure check)\n",
    "    import json\n",
    "    json.loads(text)\n",
    "    return True\n",
    "  except json.JSONDecodeError:\n",
    "    return False\n",
    "\n",
    "# Example usage\n",
    "text = \"\"\"\n",
    "This is some text.\n",
    "\n",
    "```json\n",
    "{\n",
    "  \"key\": \"value\"\n",
    "}\n",
    "\"\"\""
   ]
  },
  {
   "cell_type": "code",
   "execution_count": null,
   "metadata": {},
   "outputs": [],
   "source": [
    "raw_text = markdown_to_text(text)\n",
    "print(raw_text)\n"
   ]
  },
  {
   "cell_type": "code",
   "execution_count": null,
   "metadata": {},
   "outputs": [],
   "source": []
  }
 ],
 "metadata": {
  "kernelspec": {
   "display_name": "env",
   "language": "python",
   "name": "python3"
  },
  "language_info": {
   "codemirror_mode": {
    "name": "ipython",
    "version": 3
   },
   "file_extension": ".py",
   "mimetype": "text/x-python",
   "name": "python",
   "nbconvert_exporter": "python",
   "pygments_lexer": "ipython3",
   "version": "3.10.12"
  }
 },
 "nbformat": 4,
 "nbformat_minor": 2
}
